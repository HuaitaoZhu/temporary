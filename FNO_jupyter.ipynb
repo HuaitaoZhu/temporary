{
 "cells": [
  {
   "metadata": {
    "ExecuteTime": {
     "end_time": "2024-08-09T04:42:44.101546Z",
     "start_time": "2024-08-09T04:42:41.046397Z"
    }
   },
   "cell_type": "code",
   "source": [
    "import torch\n",
    "import matplotlib.pyplot as plt\n",
    "from data_generation import data_generator\n",
    "from neuralop.models import FNO\n",
    "from neuralop.utils import count_model_params\n",
    "from neuralop import LpLoss, H1Loss, Trainer\n",
    "\n",
    "device = torch.device('cuda' if torch.cuda.is_available() else 'cpu')\n",
    "print(device)"
   ],
   "id": "7799bad1238c29f6",
   "outputs": [
    {
     "name": "stdout",
     "output_type": "stream",
     "text": [
      "cuda\n"
     ]
    }
   ],
   "execution_count": 1
  },
  {
   "metadata": {
    "ExecuteTime": {
     "end_time": "2024-08-09T04:42:44.709677Z",
     "start_time": "2024-08-09T04:42:44.103556Z"
    }
   },
   "cell_type": "code",
   "source": [
    "# %% data_generation\n",
    "train_loader, test_loaders, data_processor = data_generator(1000,50)\n",
    "data_processor = data_processor.to(device)\n",
    "# %%\n",
    "model = FNO(n_modes=(2, 16), hidden_channels=32, projection_channels=64, factorization='tucker', rank=0.42)\n",
    "model = model.to(device)\n",
    "n_params = count_model_params(model)\n",
    "print(f'\\nOur model has {n_params} parameters.')\n",
    "\n",
    "# %%\n",
    "optimizer = torch.optim.Adam(model.parameters(),\n",
    "                             lr=8e-3,\n",
    "                             weight_decay=1e-4)\n",
    "scheduler = torch.optim.lr_scheduler.CosineAnnealingLR(optimizer, T_max=30)\n",
    "\n",
    "# %%\n",
    "l2loss = LpLoss(d=2, p=2)\n",
    "h1loss = H1Loss(d=2)\n",
    "\n",
    "train_loss = l2loss\n",
    "eval_losses = {'h1': h1loss, 'l2': l2loss}\n",
    "\n",
    "# %%\n",
    "trainer = Trainer(model=model,\n",
    "                  n_epochs=500,\n",
    "                  device=device,\n",
    "                  data_processor=data_processor,\n",
    "                  wandb_log=False,\n",
    "                  log_test_interval=3,\n",
    "                  use_distributed=False,\n",
    "                  verbose=True)"
   ],
   "id": "13a23d44d33f12ab",
   "outputs": [
    {
     "name": "stdout",
     "output_type": "stream",
     "text": [
      "\n",
      "Our model has 92985 parameters.\n",
      "self.override_load_to_device=False\n",
      "self.overrides_loss=False\n"
     ]
    }
   ],
   "execution_count": 2
  },
  {
   "metadata": {
    "ExecuteTime": {
     "end_time": "2024-08-09T04:43:03.308836Z",
     "start_time": "2024-08-09T04:42:44.710682Z"
    }
   },
   "cell_type": "code",
   "source": [
    "trainer.train(train_loader=train_loader,\n",
    "              test_loaders=test_loaders,\n",
    "              optimizer=optimizer,\n",
    "              scheduler=scheduler,\n",
    "              regularizer=False,\n",
    "              training_loss=train_loss,\n",
    "              eval_losses=eval_losses)"
   ],
   "id": "acc3dd36c999e95d",
   "outputs": [
    {
     "data": {
      "text/plain": [
       "{'32_h1': 1.1745653533935547, '32_l2': 2.346102600097656}"
      ]
     },
     "execution_count": 3,
     "metadata": {},
     "output_type": "execute_result"
    }
   ],
   "execution_count": 3
  },
  {
   "metadata": {
    "ExecuteTime": {
     "end_time": "2024-08-09T04:43:03.341813Z",
     "start_time": "2024-08-09T04:43:03.308836Z"
    }
   },
   "cell_type": "code",
   "source": [
    "import math\n",
    "\n",
    "# %%\n",
    "test_samples = test_loaders[32].dataset\n",
    "\n",
    "fig = plt.figure(figsize=(7, 7))\n",
    "for index in range(1):\n",
    "    data = test_samples[index]\n",
    "    data = data_processor.preprocess(data, batched=False)\n",
    "    # Input x\n",
    "    x = data['x']\n",
    "    # Ground-truth\n",
    "    y = data['y']\n",
    "    # Model prediction\n",
    "    # print(x.shape, y.shape)\n",
    "    out = model(x.unsqueeze(0))\n",
    "    x_ = x[0].reshape(-1).cpu().numpy()\n",
    "    print('x_shape:',x_.shape)\n",
    "    y_ = y[0].reshape(-1).cpu().numpy()\n",
    "    out_ = out[0].reshape(-1).squeeze().detach().cpu().numpy()\n",
    "    \n",
    "    # print('x_:',x_)\n",
    "    print('y_:',y_)\n",
    "    print('out_:',out_)\n",
    "    lp_loss = LpLoss(d=2, p=2, L=2*math.pi, reduce_dims=0, reductions='sum')\n",
    "    relative_loss = lp_loss(y, out)\n",
    "    print('re=',relative_loss.item())\n",
    "\n"
   ],
   "id": "1fcd2885b5ff6cc5",
   "outputs": [
    {
     "name": "stdout",
     "output_type": "stream",
     "text": [
      "x_shape: (32,)\n",
      "y_: [-0.66229767  0.29545984 -0.21101423 -0.13454367 -0.08070672  2.604782\n",
      "  0.3060353  -0.48852694 -0.31076944  1.0228616  -0.589906   -0.25526908\n",
      " -0.6973966  -0.7008685  -0.04538341 -0.6711143   0.47808242 -0.53401333\n",
      "  1.1219093  -0.59594375 -0.3359035  -0.66780263  3.329763   -0.68013525\n",
      "  1.4045876  -0.31534523 -0.5876913   0.54913473 -0.01524487 -0.45669934\n",
      "  1.8087821   0.6755798 ]\n",
      "out_: [-2.600816   -1.8937299  -2.2827263  -2.208089   -2.1667116  -0.29035807\n",
      " -1.9088478  -2.4807122  -2.3495524  -1.3944613  -2.544297   -2.3115513\n",
      " -2.6074235  -2.6177366  -2.1352785  -2.6048224  -1.7658601  -2.5066078\n",
      " -1.3294904  -2.5576224  -2.3496308  -2.6041174   0.21835977 -2.5900242\n",
      " -1.1163775  -2.3530474  -2.5427601  -1.7356611  -2.1474824  -2.4552295\n",
      " -0.8455     -1.6406931 ]\n",
      "re= 1.0212206840515137\n"
     ]
    },
    {
     "data": {
      "text/plain": [
       "<Figure size 700x700 with 0 Axes>"
      ]
     },
     "metadata": {},
     "output_type": "display_data"
    }
   ],
   "execution_count": 4
  },
  {
   "metadata": {
    "ExecuteTime": {
     "end_time": "2024-08-09T04:43:03.529827Z",
     "start_time": "2024-08-09T04:43:03.342821Z"
    }
   },
   "cell_type": "code",
   "source": [
    "test_samples = test_loaders[32].dataset\n",
    "\n",
    "fig = plt.figure(figsize=(7, 7))\n",
    "for index in range(3):\n",
    "    data = test_samples[index]\n",
    "    data = data_processor.preprocess(data, batched=False)\n",
    "    # Input x\n",
    "    x = data['x']\n",
    "    # Ground-truth\n",
    "    y = data['y']\n",
    "    # Model prediction\n",
    "    out = model(x.unsqueeze(0))\n",
    "\n",
    "    ax = fig.add_subplot(3, 3, index * 3 + 1)\n",
    "    ax.imshow(x[0].cpu().numpy(), cmap='gray')\n",
    "    if index == 0:\n",
    "        ax.set_title('Input x')\n",
    "    plt.xticks([], [])\n",
    "    plt.yticks([], [])\n",
    "\n",
    "    ax = fig.add_subplot(3, 3, index * 3 + 2)\n",
    "    ax.imshow(y.squeeze().cpu().numpy())\n",
    "    if index == 0:\n",
    "        ax.set_title('Ground-truth y')\n",
    "    plt.xticks([], [])\n",
    "    plt.yticks([], [])\n",
    "\n",
    "    ax = fig.add_subplot(3, 3, index * 3 + 3)\n",
    "    ax.imshow(out.squeeze().detach().cpu().numpy())\n",
    "    print(out.shape)\n",
    "    if index == 0:\n",
    "        ax.set_title('Model prediction')\n",
    "    plt.xticks([], [])\n",
    "    plt.yticks([], [])\n",
    "\n",
    "fig.suptitle('Inputs, ground-truth output and prediction.', y=0.98)\n",
    "plt.tight_layout()\n",
    "fig.show()\n"
   ],
   "id": "614f22e56a8821db",
   "outputs": [
    {
     "name": "stdout",
     "output_type": "stream",
     "text": [
      "torch.Size([1, 1, 2, 16])\n",
      "torch.Size([1, 1, 2, 16])\n",
      "torch.Size([1, 1, 2, 16])\n"
     ]
    },
    {
     "name": "stderr",
     "output_type": "stream",
     "text": [
      "C:\\Users\\huaitaozhu\\AppData\\Local\\Temp\\ipykernel_6784\\1811487497.py:38: UserWarning: FigureCanvasAgg is non-interactive, and thus cannot be shown\n",
      "  fig.show()\n"
     ]
    },
    {
     "data": {
      "text/plain": [
       "<Figure size 700x700 with 9 Axes>"
      ],
      "image/png": "[encoded data removed]"
     },
     "metadata": {},
     "output_type": "display_data"
    }
   ],
   "execution_count": 5
  },
  {
   "metadata": {
    "ExecuteTime": {
     "end_time": "2024-08-09T04:43:03.611518Z",
     "start_time": "2024-08-09T04:43:03.530843Z"
    }
   },
   "cell_type": "code",
   "source": [
    "test_samples = test_loaders[32].dataset\n",
    "\n",
    "fig = plt.figure(figsize=(7, 7))\n",
    "for index in range(1):\n",
    "    data = test_samples[index]\n",
    "    data = data_processor.preprocess(data, batched=False)\n",
    "    # Input x\n",
    "    x = data['x']\n",
    "    # Ground-truth\n",
    "    y = data['y']\n",
    "    # Model prediction\n",
    "    print(x.shape, y.shape)\n",
    "    out = model(x.unsqueeze(0))\n",
    "    x_ = x[0].reshape(-1).cpu().numpy()\n",
    "    print('x_shape:',x_.shape)\n",
    "    y_ = y[0].reshape(-1).cpu().numpy()\n",
    "    out_ = out[0].reshape(-1).squeeze().detach().cpu().numpy()\n",
    "    \n",
    "    plt.scatter(x_, y_)\n",
    "    plt.scatter(x_, out_)"
   ],
   "id": "4fd193042a9c32b1",
   "outputs": [
    {
     "name": "stdout",
     "output_type": "stream",
     "text": [
      "torch.Size([3, 2, 16]) torch.Size([1, 1, 2, 16])\n",
      "x_shape: (32,)\n"
     ]
    },
    {
     "data": {
      "text/plain": [
       "<Figure size 700x700 with 1 Axes>"
      ],
      "image/png": "[encoded data removed]"
     },
     "metadata": {},
     "output_type": "display_data"
    }
   ],
   "execution_count": 6
  }
 ],
 "metadata": {
  "kernelspec": {
   "display_name": "Python 3",
   "language": "python",
   "name": "python3"
  },
  "language_info": {
   "codemirror_mode": {
    "name": "ipython",
    "version": 2
   },
   "file_extension": ".py",
   "mimetype": "text/x-python",
   "name": "python",
   "nbconvert_exporter": "python",
   "pygments_lexer": "ipython2",
   "version": "2.7.6"
  }
 },
 "nbformat": 4,
 "nbformat_minor": 5
}
